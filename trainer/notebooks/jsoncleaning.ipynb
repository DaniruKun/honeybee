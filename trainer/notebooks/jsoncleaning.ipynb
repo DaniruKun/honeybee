{
 "metadata": {
  "language_info": {
   "codemirror_mode": {
    "name": "ipython",
    "version": 3
   },
   "file_extension": ".py",
   "mimetype": "text/x-python",
   "name": "python",
   "nbconvert_exporter": "python",
   "pygments_lexer": "ipython3",
   "version": "3.8.6-final"
  },
  "orig_nbformat": 2,
  "kernelspec": {
   "name": "python3",
   "display_name": "Python 3",
   "language": "python"
  }
 },
 "nbformat": 4,
 "nbformat_minor": 2,
 "cells": [
  {
   "cell_type": "code",
   "execution_count": 1,
   "metadata": {},
   "outputs": [],
   "source": [
    "import json\n",
    "\n",
    "with open('../../data/raw/actions.jsonl') as f:\n",
    "    data = [json.loads(x) for x in f.read().splitlines()]\n"
   ]
  },
  {
   "cell_type": "code",
   "execution_count": 3,
   "metadata": {},
   "outputs": [
    {
     "output_type": "stream",
     "name": "stdout",
     "text": [
      "988608\n687045\n"
     ]
    }
   ],
   "source": [
    "print(len(data))\n",
    "filtered = list(filter(lambda line: 'originVideoId' in line, data))\n",
    "print(len(filtered))\n",
    "output = '\\n'.join([json.dumps(x) for x in filtered]) + '\\n'\n",
    "with open('cleaned_actions.jsonl', 'w') as f:\n",
    "    f.write(output)"
   ]
  }
 ]
}